{
 "cells": [
  {
   "cell_type": "code",
   "execution_count": 1,
   "id": "dae377af-5a10-4b9a-ba9b-c9d51f09e0c8",
   "metadata": {},
   "outputs": [],
   "source": [
    "import os"
   ]
  },
  {
   "cell_type": "code",
   "execution_count": 2,
   "id": "f998aa13-b0d8-42c1-b4a2-d62885f2f665",
   "metadata": {},
   "outputs": [],
   "source": [
    "#define variable 'path' to be '/blue/bsc4452/share/Class_Files/data/CO-OPS__8729108__wl.csv'\n",
    "path = \"/blue/bsc4452/share/Class_Files/data/CO-OPS__8729108__wl.csv\""
   ]
  },
  {
   "cell_type": "markdown",
   "id": "df4d74d2-dbbc-4f25-b134-3cf7971d717f",
   "metadata": {},
   "source": [
    "# QUESTION 1\n",
    "Write a script (or Jupyter Notebook code block) that opens the file, uses a for loop to read through the file line by line and reports the highest water level and the date and time that was observed."
   ]
  },
  {
   "cell_type": "markdown",
   "id": "b47cf102-f78c-484d-8f2b-5eeff5f3ff33",
   "metadata": {},
   "source": [
    ">_This code first reads the file and skips the 1st line._ \n",
    ">_Then the 1st line of data is read and saved as variable line1 which is an array._ \n",
    ">_After checking for non-empty cells, if the newline we read has higher value for water column, we save it as our line1 and loop comparison._ \n",
    ">_Print the highest value._"
   ]
  },
  {
   "cell_type": "code",
   "execution_count": 3,
   "id": "e9916292-016e-48ee-94a7-b68852576e71",
   "metadata": {},
   "outputs": [
    {
     "name": "stdout",
     "output_type": "stream",
     "text": [
      "Highest water level :  6.647\n",
      "Date and time       :  2018-10-10 18:06\n"
     ]
    }
   ],
   "source": [
    "with open(path,\"r\") as file:\n",
    "    next(file) #skip headers\n",
    "    \n",
    "    line1 = file.readline().split(\",\") #read 1st row of data\n",
    "    \n",
    "    for line in file:\n",
    "        line = line.split(\",\")\n",
    "        if line[1] != '': #check for non-empty cells\n",
    "            if (float(line1[1]) < float(line[1])): #compare and keep higer water level\n",
    "                line1 = line\n",
    "                \n",
    "    print(\"Highest water level : \",line1[1])\n",
    "    print(\"Date and time       : \",line1[0])"
   ]
  },
  {
   "cell_type": "markdown",
   "id": "b1e8ecf4-2058-491b-88b7-878309e27e09",
   "metadata": {},
   "source": [
    "# QUESTION 2\n",
    "Either in a new script or modifying the above script, calculate the lowest, highest and average water level observed during the time period. As above, print the date and time for the lowest and highest readings. "
   ]
  },
  {
   "cell_type": "markdown",
   "id": "283e74f5-8330-4acc-823d-729b5e095b85",
   "metadata": {},
   "source": [
    ">_It's important to have <code>total = total + float(line[1])</code> and <code>count += 1</code> indented under 1st <code>if</code>. Otherwise null values can't be handled._"
   ]
  },
  {
   "cell_type": "code",
   "execution_count": 4,
   "id": "70c50990-a088-4f9e-87cc-742f04ac4154",
   "metadata": {},
   "outputs": [
    {
     "name": "stdout",
     "output_type": "stream",
     "text": [
      "Highest water level :  6.647\n",
      "Date and time       :  2018-10-10 18:06\n",
      "..............\n",
      "Lowest water level  :  1.621\n",
      "Date and time       :  2018-10-11 15:36\n",
      "..............\n",
      "Average water level :  2.982\n"
     ]
    }
   ],
   "source": [
    "with open(path,\"r\") as file:\n",
    "    next(file) #skip headers\n",
    "    \n",
    "    line1 = line2 = file.readline().split(\",\") #read 1st row of data\n",
    "    total = float(line1[1]) #initiate calculating total water level\n",
    "    count = 1\n",
    "    \n",
    "    for line in file:\n",
    "        line = line.split(\",\")\n",
    "        if line[1] != '': #check for non-empty cells\n",
    "            if (float(line1[1]) < float(line[1])): #compare and keep higer water level\n",
    "                line1 = line\n",
    "            if (float(line2[1]) > float(line[1])): #compare and keep lower water level\n",
    "                line2 = line\n",
    "            total = total + float(line[1]) #loop and calculate total water level\n",
    "            count += 1 #get line count\n",
    "            \n",
    "    print(\"Highest water level : \",line1[1])\n",
    "    print(\"Date and time       : \",line1[0])\n",
    "    print(\"..............\")\n",
    "    print(\"Lowest water level  : \",line2[1])\n",
    "    print(\"Date and time       : \",line2[0])\n",
    "    print(\"..............\")\n",
    "    print(\"Average water level : \",round(total/count,3))"
   ]
  },
  {
   "cell_type": "markdown",
   "id": "77fcf6f3-1510-4dbe-8761-203b63f3208d",
   "metadata": {},
   "source": [
    "# QUESTION 3\n",
    "Write a script (or Jupyter Notebook) that calculates the fastest rise in water level per 6-minute period between measurements (for this assignment, assume that each line of the dataset is a 6-minute interval) and reports the date and time that was observed and the change in water level from the previous recording."
   ]
  },
  {
   "cell_type": "code",
   "execution_count": 5,
   "id": "44a5289c-5b29-477e-a580-758859c509fa",
   "metadata": {},
   "outputs": [
    {
     "name": "stdout",
     "output_type": "stream",
     "text": [
      "Date and time         :  2018-10-10 17:42\n",
      "Change in water level :  0.64\n"
     ]
    }
   ],
   "source": [
    "with open(path,\"r\") as file:\n",
    "    next(file) #skip headers\n",
    "    \n",
    "    line1 = file.readline().split(\",\") #read 1st row of data\n",
    "    dif1 = 0 #take initial difference to be zero (if water level is increasing:  [final water level - initial water level] > 0)\n",
    "    \n",
    "    for line in file:\n",
    "        line = line.split(\",\")\n",
    "        try:\n",
    "            dif = float(line[1]) - float(line1[1]) #calculate difference between adjecent rows\n",
    "        except:\n",
    "            continue #ignore empty rows (doesn't calculate difference for these rows)\n",
    "        if (dif > dif1): #if the water level is rising the difference has to be higher than 0, and capture higher dif\n",
    "            dif1 = dif #captuer higher difference\n",
    "            date = line[0] #capture corresponding date\n",
    "        line1 = line #update previous line\n",
    "        \n",
    "    print(\"Date and time         : \", date)\n",
    "    print(\"Change in water level : \", round(dif1,3))"
   ]
  },
  {
   "cell_type": "markdown",
   "id": "e7027a9e-2dbc-4f46-9970-028f8149d044",
   "metadata": {},
   "source": [
    "# QUESTION 4\n",
    "Imagine that the file is providing live readings of the water level. Write a script (or Jupyter Notebook) to print a line of text with a warning if any of these events occur:\n",
    "* The water level increases more than 0.25 since the previous recording.\n",
    "* The water level is over 5.0.\n",
    "* No reading is received at a time point."
   ]
  },
  {
   "cell_type": "code",
   "execution_count": 6,
   "id": "547a2eac-ead2-4f59-8168-ca1cd81225d4",
   "metadata": {},
   "outputs": [
    {
     "name": "stdout",
     "output_type": "stream",
     "text": [
      "The water level increases more than 0.25 since the previous recording ----->  0.302\n",
      "The water level increases more than 0.25 since the previous recording ----->  0.279\n",
      "The water level increases more than 0.25 since the previous recording ----->  0.64\n",
      "The water level is over 5.0 ----->  5.591\n",
      "The water level increases more than 0.25 since the previous recording ----->  0.367\n",
      "The water level is over 5.0 ----->  5.958\n",
      "The water level increases more than 0.25 since the previous recording ----->  0.446\n",
      "The water level is over 5.0 ----->  6.404\n",
      "The water level is over 5.0 ----->  6.575\n",
      "The water level is over 5.0 ----->  6.647\n",
      "The water level is over 5.0 ----->  6.503\n",
      "No reading is received at  2018-10-10 18:18\n",
      "The water level is over 5.0 ----->  6.309\n",
      "The water level is over 5.0 ----->  6.024\n",
      "The water level is over 5.0 ----->  5.725\n",
      "The water level is over 5.0 ----->  5.699\n",
      "The water level is over 5.0 ----->  5.449\n",
      "The water level is over 5.0 ----->  5.338\n",
      "The water level is over 5.0 ----->  5.22\n"
     ]
    }
   ],
   "source": [
    "with open(path,\"r\") as file:\n",
    "    next(file) #skip headers\n",
    "    \n",
    "    line1 = file.readline().split(\",\") #read 1st row of data\n",
    "    if (float(line1[1]) > 5.0): #check if the water level is over 5.0 for 1st line\n",
    "            print(\"The water level is over 5.0 -----> \",round(x,3))\n",
    "    \n",
    "    for line in file:\n",
    "        line = line.split(\",\")\n",
    "        try:\n",
    "            x = float(line[1])\n",
    "        except:\n",
    "            print(\"No reading is received at \",line[0]) #see if any null values\n",
    "            continue\n",
    "            \n",
    "        dif = float(line[1]) - float(line1[1]) #calculate difference between adjecent rows\n",
    "        \n",
    "        if (dif > 0.25): #check if the water level increases more than 0.25 since the previous recording\n",
    "            print(\"The water level increases more than 0.25 since the previous recording -----> \",round(dif,3))\n",
    "        \n",
    "        if (x > 5.0): #check if the water level is over 5.0\n",
    "            print(\"The water level is over 5.0 -----> \",round(x,3))\n",
    "        \n",
    "        line1 = line #update previous line"
   ]
  },
  {
   "cell_type": "code",
   "execution_count": null,
   "id": "bc33970e-15d3-4656-ac40-b04f22333b24",
   "metadata": {},
   "outputs": [],
   "source": []
  }
 ],
 "metadata": {
  "kernelspec": {
   "display_name": "UFRC Python-3.10",
   "language": "python",
   "name": "python3-3.10-ufrc"
  },
  "language_info": {
   "codemirror_mode": {
    "name": "ipython",
    "version": 3
   },
   "file_extension": ".py",
   "mimetype": "text/x-python",
   "name": "python",
   "nbconvert_exporter": "python",
   "pygments_lexer": "ipython3",
   "version": "3.10.5"
  }
 },
 "nbformat": 4,
 "nbformat_minor": 5
}
