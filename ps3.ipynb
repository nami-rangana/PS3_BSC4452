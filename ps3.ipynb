{
 "cells": [
  {
   "cell_type": "code",
   "execution_count": 1,
   "id": "dae377af-5a10-4b9a-ba9b-c9d51f09e0c8",
   "metadata": {},
   "outputs": [],
   "source": [
    "import os"
   ]
  },
  {
   "cell_type": "code",
   "execution_count": 1,
   "id": "f998aa13-b0d8-42c1-b4a2-d62885f2f665",
   "metadata": {},
   "outputs": [],
   "source": [
    "#define variable 'path' to be '/blue/bsc4452/share/Class_Files/data/CO-OPS__8729108__wl.csv'\n",
    "path = r\"/blue/bsc4452/share/Class_Files/data/CO-OPS__8729108__wl.csv\""
   ]
  },
  {
   "cell_type": "markdown",
   "id": "df4d74d2-dbbc-4f25-b134-3cf7971d717f",
   "metadata": {},
   "source": [
    "# QUESTION 1\n",
    "Write a script (or Jupyter Notebook code block) that opens the file, uses a for loop to read through the file line by line and reports the highest water level and the date and time that was observed."
   ]
  },
  {
   "cell_type": "markdown",
   "id": "b47cf102-f78c-484d-8f2b-5eeff5f3ff33",
   "metadata": {},
   "source": [
    ">_This code first reads the file and skips the 1st line._ \n",
    ">_Then the 1st line of data is read and saved as variable line1 which is an array._ \n",
    ">_After checking for non-empty cells, if the newline we read has higher value for water column, we save it as our line1 and loop comparison._ \n",
    ">_Print the highest value._"
   ]
  },
  {
   "cell_type": "code",
   "execution_count": 26,
   "id": "e9916292-016e-48ee-94a7-b68852576e71",
   "metadata": {},
   "outputs": [
    {
     "name": "stdout",
     "output_type": "stream",
     "text": [
      "Highest water level :  6.647\n",
      "Date and time       :  2018-10-10 18:06\n"
     ]
    }
   ],
   "source": [
    "with open(path,\"r\") as file:\n",
    "    next(file) #skip headers\n",
    "    line1 = file.readline().split(\",\")\n",
    "    for line in file:\n",
    "        line = line.split(\",\")\n",
    "        if line[1] != '': #check for non-empty cells\n",
    "            if (float(line1[1]) < float(line[1])): #compare and keep higer water level\n",
    "                line1 = line\n",
    "    print(\"Highest water level : \",line1[1])\n",
    "    print(\"Date and time       : \",line1[0])"
   ]
  },
  {
   "cell_type": "markdown",
   "id": "b1e8ecf4-2058-491b-88b7-878309e27e09",
   "metadata": {},
   "source": [
    "# QUESTION 2\n",
    "Either in a new script or modifying the above script, calculate the lowest, highest and average water level observed during the time period. As above, print the date and time for the lowest and highest readings. "
   ]
  },
  {
   "cell_type": "code",
   "execution_count": null,
   "id": "70c50990-a088-4f9e-87cc-742f04ac4154",
   "metadata": {},
   "outputs": [],
   "source": []
  }
 ],
 "metadata": {
  "kernelspec": {
   "display_name": "UFRC Python-3.10",
   "language": "python",
   "name": "python3-3.10-ufrc"
  },
  "language_info": {
   "codemirror_mode": {
    "name": "ipython",
    "version": 3
   },
   "file_extension": ".py",
   "mimetype": "text/x-python",
   "name": "python",
   "nbconvert_exporter": "python",
   "pygments_lexer": "ipython3",
   "version": "3.10.5"
  }
 },
 "nbformat": 4,
 "nbformat_minor": 5
}
